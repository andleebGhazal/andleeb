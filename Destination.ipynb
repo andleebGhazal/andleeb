{
 "cells": [
  {
   "cell_type": "code",
   "execution_count": null,
   "id": "c5c96649",
   "metadata": {
    "scrolled": true
   },
   "outputs": [],
   "source": [
    "#REACHING HOME:\n",
    "a=str(input(\"Welcome.To reach the Destination; use L/l for left, R/r for right, U/u for up, D/d for down. Please enter your command:\"))\n",
    "if a!='l' or a!='L':\n",
    "    print(\"Wrong command. Try again\")     \n",
    "if a=='l' or a=='L':\n",
    "    b=input(\"next move:\")\n",
    "if b=='u' or b=='U':\n",
    "    c=input(\"next:\")\n",
    "if c=='l' or c=='L':\n",
    "    d=input(\"You are one step away from your goal\")\n",
    "if d=='u' or d=='U':\n",
    "    print(\"Congratulations!...You Win\")\n",
    "if c=='u' or c=='U': \n",
    "    e=input(\"Go:\")\n",
    "if e=='l' or e=='L':\n",
    "    print(\"Congratulations!...You Win\")\n",
    "elif e=='r' or e=='R':\n",
    "    f=input(\"move back. Do you?\") \n",
    "if f=='l' or f=='L': \n",
    " g=input(\"Go straight:\")\n",
    "if g=='l' or g=='L':\n",
    " print(\"Congratulations!...You Win\") \n",
    "else:\n",
    " print(\"You loose\")\n",
    "   "
   ]
  },
  {
   "cell_type": "code",
   "execution_count": null,
   "id": "42c8e9ac",
   "metadata": {},
   "outputs": [],
   "source": []
  },
  {
   "cell_type": "code",
   "execution_count": null,
   "id": "8776de03",
   "metadata": {},
   "outputs": [],
   "source": []
  }
 ],
 "metadata": {
  "kernelspec": {
   "display_name": "Python 3 (ipykernel)",
   "language": "python",
   "name": "python3"
  },
  "language_info": {
   "codemirror_mode": {
    "name": "ipython",
    "version": 3
   },
   "file_extension": ".py",
   "mimetype": "text/x-python",
   "name": "python",
   "nbconvert_exporter": "python",
   "pygments_lexer": "ipython3",
   "version": "3.9.12"
  }
 },
 "nbformat": 4,
 "nbformat_minor": 5
}

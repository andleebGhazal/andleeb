{
 "cells": [
  {
   "cell_type": "code",
   "execution_count": 5,
   "id": "cbd0e823",
   "metadata": {},
   "outputs": [
    {
     "name": "stdout",
     "output_type": "stream",
     "text": [
      "To find factorial; Please enter positive integer10\n",
      "The factorial of 10 = 3628800\n"
     ]
    }
   ],
   "source": [
    "# FACTORIAL PROGRAM:\n",
    "a=int(input(\"To find factorial; Please enter positive integer\"))\n",
    "f=1\n",
    "if a < 0:\n",
    "  print(\"You entered negative no.\")\n",
    "elif a==0:\n",
    "  print(\"The factorial of\",a,\"1\")\n",
    "else:\n",
    "  for i in range(1,a+1):\n",
    "    f=f*i\n",
    "  print(\"The factorial of\",a,\"=\",f)"
   ]
  },
  {
   "cell_type": "code",
   "execution_count": null,
   "id": "9bc3e55b",
   "metadata": {},
   "outputs": [],
   "source": []
  },
  {
   "cell_type": "code",
   "execution_count": null,
   "id": "03878fa9",
   "metadata": {},
   "outputs": [],
   "source": []
  }
 ],
 "metadata": {
  "kernelspec": {
   "display_name": "Python 3 (ipykernel)",
   "language": "python",
   "name": "python3"
  },
  "language_info": {
   "codemirror_mode": {
    "name": "ipython",
    "version": 3
   },
   "file_extension": ".py",
   "mimetype": "text/x-python",
   "name": "python",
   "nbconvert_exporter": "python",
   "pygments_lexer": "ipython3",
   "version": "3.9.12"
  }
 },
 "nbformat": 4,
 "nbformat_minor": 5
}

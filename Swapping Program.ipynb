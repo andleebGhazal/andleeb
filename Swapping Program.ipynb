{
 "cells": [
  {
   "cell_type": "code",
   "execution_count": 2,
   "id": "a000be7d",
   "metadata": {},
   "outputs": [
    {
     "name": "stdout",
     "output_type": "stream",
     "text": [
      "Enter 1st number=7\n",
      "Enter 2st number=4\n",
      "After swapping , 1st number is: 4.0 and 2nd number is: 7.0\n"
     ]
    }
   ],
   "source": [
    "# SWAPPING OF NUMBERS PROGRAM:\n",
    "a=float(input(\"Enter 1st number=\"))\n",
    "b=float(input(\"Enter 2st number=\"))\n",
    "u=a\n",
    "a=b\n",
    "b=u\n",
    "print(\"After swapping , 1st number is:\",a,\"and 2nd number is:\",b)"
   ]
  },
  {
   "cell_type": "code",
   "execution_count": null,
   "id": "306c282d",
   "metadata": {},
   "outputs": [],
   "source": []
  }
 ],
 "metadata": {
  "kernelspec": {
   "display_name": "Python 3 (ipykernel)",
   "language": "python",
   "name": "python3"
  },
  "language_info": {
   "codemirror_mode": {
    "name": "ipython",
    "version": 3
   },
   "file_extension": ".py",
   "mimetype": "text/x-python",
   "name": "python",
   "nbconvert_exporter": "python",
   "pygments_lexer": "ipython3",
   "version": "3.9.12"
  }
 },
 "nbformat": 4,
 "nbformat_minor": 5
}

{
 "cells": [
  {
   "cell_type": "code",
   "execution_count": null,
   "id": "6b907582",
   "metadata": {},
   "outputs": [],
   "source": [
    "#STRING OPERATION:\n",
    "x=str(input(\"Enter string :\"))\n",
    "y=str(input(\"Enter another string for concatenation :\"))\n",
    "k=str(input(\"Enter sub-string\"))\n",
    "z=x+\" \"+y\n",
    "print(z)\n",
    "print(\"concatenated String length\",len(z))\n",
    "if k in z:\n",
    "    print(\"yes.substring is present\")\n",
    "else:\n",
    "        print(\"substring not found\")"
   ]
  },
  {
   "cell_type": "code",
   "execution_count": null,
   "id": "ee8b3964",
   "metadata": {},
   "outputs": [],
   "source": []
  },
  {
   "cell_type": "code",
   "execution_count": null,
   "id": "5141a803",
   "metadata": {},
   "outputs": [],
   "source": []
  }
 ],
 "metadata": {
  "kernelspec": {
   "display_name": "Python 3 (ipykernel)",
   "language": "python",
   "name": "python3"
  },
  "language_info": {
   "codemirror_mode": {
    "name": "ipython",
    "version": 3
   },
   "file_extension": ".py",
   "mimetype": "text/x-python",
   "name": "python",
   "nbconvert_exporter": "python",
   "pygments_lexer": "ipython3",
   "version": "3.9.12"
  }
 },
 "nbformat": 4,
 "nbformat_minor": 5
}
